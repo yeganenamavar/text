{
 "cells": [
  {
   "cell_type": "code",
   "execution_count": 24,
   "id": "ad35ab80",
   "metadata": {},
   "outputs": [
    {
     "name": "stdout",
     "output_type": "stream",
     "text": [
      "vared kardan matn :hello world\n",
      "h\n",
      "eh\n",
      "leh\n",
      "lleh\n",
      "olleh\n",
      " olleh\n",
      "w olleh\n",
      "ow olleh\n",
      "row olleh\n",
      "lrow olleh\n",
      "dlrow olleh\n"
     ]
    }
   ],
   "source": [
    "text = input(\"vared kardan matn :\")\n",
    "\n",
    "tefg = \"\"\n",
    "for i in text :\n",
    "    tefg = i + tefg\n",
    "    print(tefg)"
   ]
  }
 ],
 "metadata": {
  "kernelspec": {
   "display_name": "Python 3 (ipykernel)",
   "language": "python",
   "name": "python3"
  },
  "language_info": {
   "codemirror_mode": {
    "name": "ipython",
    "version": 3
   },
   "file_extension": ".py",
   "mimetype": "text/x-python",
   "name": "python",
   "nbconvert_exporter": "python",
   "pygments_lexer": "ipython3",
   "version": "3.9.13"
  }
 },
 "nbformat": 4,
 "nbformat_minor": 5
}
